{
 "cells": [
  {
   "cell_type": "code",
   "execution_count": 1,
   "metadata": {},
   "outputs": [
    {
     "name": "stdout",
     "output_type": "stream",
     "text": [
      "Python Version: 3.7.5 (default, Oct 31 2019, 15:18:51) [MSC v.1916 64 bit (AMD64)] \n",
      "\n"
     ]
    }
   ],
   "source": [
    "import sys\n",
    "print(\"Python Version:\", sys.version, '\\n')"
   ]
  },
  {
   "cell_type": "markdown",
   "metadata": {},
   "source": [
    "# Pickle: Saving Objects for Later"
   ]
  },
  {
   "cell_type": "markdown",
   "metadata": {},
   "source": [
    "Often in data science, we'll create some model or some version of our data and want to use it later. We have many options - we can save the coefficients, or save the data to csv, or...\n",
    "\n",
    "Actually, we don't have that many options. \n",
    "\n",
    "One way to overcome that is to save the python object to a file as a serialized object. That means we convert the entire object to a bunch of bytes, save those bytes into a file, and then have the ability to unpack those bytes back into their original format later. \n",
    "\n",
    "This is done by a module called `pickle`. Let's see it in action."
   ]
  },
  {
   "cell_type": "code",
   "execution_count": 2,
   "metadata": {},
   "outputs": [],
   "source": [
    "import pickle\n",
    "import random\n",
    "\n",
    "lots_of_noise = {\n",
    "    'CA': [random.randint(0,65) for _ in range(100)],\n",
    "    'IL': [random.randint(0,65) for _ in range(50)],\n",
    "    'NY': [random.randint(0,65) for _ in range(90)],\n",
    "    'WA': [random.randint(0,65) for _ in range(33)]\n",
    "}"
   ]
  },
  {
   "cell_type": "code",
   "execution_count": 3,
   "metadata": {},
   "outputs": [
    {
     "name": "stdout",
     "output_type": "stream",
     "text": [
      "{'CA': [48, 22, 18, 33, 6, 45, 1, 23, 40, 14, 50, 13, 39, 20, 64, 4, 49, 43, 54, 16, 60, 65, 40, 35, 19, 40, 36, 37, 39, 52, 33, 7, 56, 5, 50, 2, 26, 10, 36, 65, 43, 64, 14, 55, 38, 37, 6, 12, 30, 8, 4, 2, 58, 2, 40, 37, 58, 60, 65, 1, 12, 63, 17, 63, 55, 6, 58, 10, 54, 11, 23, 30, 31, 34, 42, 26, 30, 18, 64, 55, 61, 7, 52, 18, 47, 41, 54, 16, 6, 44, 60, 34, 52, 26, 25, 50, 59, 52, 43, 18], 'IL': [35, 12, 6, 20, 11, 36, 55, 54, 64, 12, 33, 60, 28, 33, 31, 42, 62, 48, 29, 53, 47, 57, 16, 49, 27, 57, 61, 31, 60, 5, 12, 9, 18, 5, 15, 55, 34, 46, 39, 15, 16, 30, 24, 2, 44, 14, 1, 46, 8, 22], 'NY': [61, 6, 0, 47, 46, 9, 20, 22, 43, 10, 55, 2, 25, 18, 19, 55, 11, 61, 19, 11, 19, 49, 16, 10, 6, 62, 10, 43, 45, 13, 9, 44, 56, 3, 63, 57, 45, 39, 64, 36, 44, 30, 39, 33, 53, 14, 22, 57, 3, 17, 36, 33, 65, 11, 50, 40, 41, 26, 51, 13, 40, 56, 44, 35, 32, 32, 22, 3, 9, 19, 1, 7, 18, 50, 57, 23, 11, 53, 21, 45, 24, 34, 63, 34, 13, 38, 65, 50, 24, 62], 'WA': [54, 35, 53, 63, 41, 10, 3, 25, 57, 39, 2, 21, 37, 48, 9, 39, 22, 5, 53, 26, 39, 60, 1, 52, 8, 56, 11, 36, 12, 45, 59, 40, 62]}\n"
     ]
    }
   ],
   "source": [
    "print(lots_of_noise)"
   ]
  },
  {
   "cell_type": "code",
   "execution_count": 4,
   "metadata": {},
   "outputs": [
    {
     "name": "stdout",
     "output_type": "stream",
     "text": [
      "Variable        Type      Data/Info\n",
      "-----------------------------------\n",
      "lots_of_noise   dict      n=4\n",
      "pickle          module    <module 'pickle' from 'C:<...>aconda3\\\\lib\\\\pickle.py'>\n",
      "random          module    <module 'random' from 'C:<...>aconda3\\\\lib\\\\random.py'>\n",
      "sys             module    <module 'sys' (built-in)>\n"
     ]
    }
   ],
   "source": [
    "whos"
   ]
  },
  {
   "cell_type": "markdown",
   "metadata": {},
   "source": [
    "We can see in this `whos` command that the object `lots_of_noise` exists and is a `dict` with 4 keys. Nice. Now let's look at our file system and verify that there isn't a file called `noise.pickle`."
   ]
  },
  {
   "cell_type": "code",
   "execution_count": 9,
   "metadata": {},
   "outputs": [
    {
     "name": "stdout",
     "output_type": "stream",
     "text": [
      " Volume in drive C has no label.\n",
      " Volume Serial Number is 74EA-7590\n",
      "\n",
      " Directory of C:\\Users\\dj\\Dropbox (Delta Partners)\\Laptop\\Desktop\\metis\\dsp\\lessons\\python_advanced\n",
      "\n",
      "01/03/2020  05:59 PM    <DIR>          .\n",
      "01/03/2020  05:59 PM    <DIR>          ..\n",
      "01/03/2020  05:33 PM    <DIR>          .ipynb_checkpoints\n",
      "01/03/2020  05:50 PM            20,574 advanced_python_datatypes.ipynb\n",
      "01/03/2020  05:57 PM             9,899 deep_and_shallow_copy.ipynb\n",
      "01/03/2020  01:12 AM    <DIR>          deep_copy_demo\n",
      "01/03/2020  01:12 AM             1,482 instructor_guide_week1_day4.md\n",
      "01/03/2020  01:12 AM             4,040 my_dataframe.pickle\n",
      "01/03/2020  01:12 AM               610 noise.pickle\n",
      "01/03/2020  05:59 PM             9,049 pickle_saving_objects_for_later.ipynb\n",
      "01/03/2020  01:12 AM               988 readme.md\n",
      "               7 File(s)         46,642 bytes\n",
      "               4 Dir(s)  557,428,858,880 bytes free\n"
     ]
    }
   ],
   "source": [
    "# !ls\n",
    "!dir"
   ]
  },
  {
   "cell_type": "markdown",
   "metadata": {},
   "source": [
    "Okay, now we're ready to create a file and write the bytes to it. To do this with `pickle`, we use python's read-write streamer `open` and create a writable-binary (`wb`) file. We'll then use `pickle.dump` to put an object into that file as a string of bytes."
   ]
  },
  {
   "cell_type": "code",
   "execution_count": 10,
   "metadata": {},
   "outputs": [],
   "source": [
    "with open('noise.pickle', 'wb') as to_write:\n",
    "    pickle.dump(lots_of_noise, to_write)"
   ]
  },
  {
   "cell_type": "code",
   "execution_count": 11,
   "metadata": {},
   "outputs": [
    {
     "name": "stdout",
     "output_type": "stream",
     "text": [
      " Volume in drive C has no label.\n",
      " Volume Serial Number is 74EA-7590\n",
      "\n",
      " Directory of C:\\Users\\dj\\Dropbox (Delta Partners)\\Laptop\\Desktop\\metis\\dsp\\lessons\\python_advanced\n",
      "\n",
      "01/03/2020  05:59 PM    <DIR>          .\n",
      "01/03/2020  05:59 PM    <DIR>          ..\n",
      "01/03/2020  05:33 PM    <DIR>          .ipynb_checkpoints\n",
      "01/03/2020  05:50 PM            20,574 advanced_python_datatypes.ipynb\n",
      "01/03/2020  05:57 PM             9,899 deep_and_shallow_copy.ipynb\n",
      "01/03/2020  01:12 AM    <DIR>          deep_copy_demo\n",
      "01/03/2020  01:12 AM             1,482 instructor_guide_week1_day4.md\n",
      "01/03/2020  01:12 AM             4,040 my_dataframe.pickle\n",
      "01/03/2020  06:01 PM               610 noise.pickle\n",
      "01/03/2020  05:59 PM             9,049 pickle_saving_objects_for_later.ipynb\n",
      "01/03/2020  01:12 AM               988 readme.md\n",
      "               7 File(s)         46,642 bytes\n",
      "               4 Dir(s)  557,428,289,536 bytes free\n"
     ]
    }
   ],
   "source": [
    "# !ls\n",
    "!dir"
   ]
  },
  {
   "cell_type": "markdown",
   "metadata": {},
   "source": [
    "Now let's delete `lots_of_noise` and prove to ourselves it doesn't exist in Python's memory anymore."
   ]
  },
  {
   "cell_type": "code",
   "execution_count": 12,
   "metadata": {},
   "outputs": [],
   "source": [
    "del lots_of_noise"
   ]
  },
  {
   "cell_type": "code",
   "execution_count": 13,
   "metadata": {},
   "outputs": [
    {
     "name": "stdout",
     "output_type": "stream",
     "text": [
      "Variable   Type              Data/Info\n",
      "--------------------------------------\n",
      "pickle     module            <module 'pickle' from 'C:<...>aconda3\\\\lib\\\\pickle.py'>\n",
      "random     module            <module 'random' from 'C:<...>aconda3\\\\lib\\\\random.py'>\n",
      "sys        module            <module 'sys' (built-in)>\n",
      "to_write   BufferedWriter    <_io.BufferedWriter name='noise.pickle'>\n"
     ]
    }
   ],
   "source": [
    "whos"
   ]
  },
  {
   "cell_type": "code",
   "execution_count": null,
   "metadata": {},
   "outputs": [],
   "source": [
    "print(lots_of_noise)"
   ]
  },
  {
   "cell_type": "markdown",
   "metadata": {},
   "source": [
    "Lovely. It's dead forever. Or is it?\n",
    "\n",
    "Let's open that `noise.pickle` file with read-binary (`rb`) mode. Then we'll ask pickle to retrieve the file with `pickle.load` and store it back in a variable."
   ]
  },
  {
   "cell_type": "code",
   "execution_count": 14,
   "metadata": {},
   "outputs": [],
   "source": [
    "with open('noise.pickle','rb') as read_file:\n",
    "    new_noise = pickle.load(read_file)"
   ]
  },
  {
   "cell_type": "code",
   "execution_count": 15,
   "metadata": {},
   "outputs": [
    {
     "name": "stdout",
     "output_type": "stream",
     "text": [
      "{'CA': [48, 22, 18, 33, 6, 45, 1, 23, 40, 14, 50, 13, 39, 20, 64, 4, 49, 43, 54, 16, 60, 65, 40, 35, 19, 40, 36, 37, 39, 52, 33, 7, 56, 5, 50, 2, 26, 10, 36, 65, 43, 64, 14, 55, 38, 37, 6, 12, 30, 8, 4, 2, 58, 2, 40, 37, 58, 60, 65, 1, 12, 63, 17, 63, 55, 6, 58, 10, 54, 11, 23, 30, 31, 34, 42, 26, 30, 18, 64, 55, 61, 7, 52, 18, 47, 41, 54, 16, 6, 44, 60, 34, 52, 26, 25, 50, 59, 52, 43, 18], 'IL': [35, 12, 6, 20, 11, 36, 55, 54, 64, 12, 33, 60, 28, 33, 31, 42, 62, 48, 29, 53, 47, 57, 16, 49, 27, 57, 61, 31, 60, 5, 12, 9, 18, 5, 15, 55, 34, 46, 39, 15, 16, 30, 24, 2, 44, 14, 1, 46, 8, 22], 'NY': [61, 6, 0, 47, 46, 9, 20, 22, 43, 10, 55, 2, 25, 18, 19, 55, 11, 61, 19, 11, 19, 49, 16, 10, 6, 62, 10, 43, 45, 13, 9, 44, 56, 3, 63, 57, 45, 39, 64, 36, 44, 30, 39, 33, 53, 14, 22, 57, 3, 17, 36, 33, 65, 11, 50, 40, 41, 26, 51, 13, 40, 56, 44, 35, 32, 32, 22, 3, 9, 19, 1, 7, 18, 50, 57, 23, 11, 53, 21, 45, 24, 34, 63, 34, 13, 38, 65, 50, 24, 62], 'WA': [54, 35, 53, 63, 41, 10, 3, 25, 57, 39, 2, 21, 37, 48, 9, 39, 22, 5, 53, 26, 39, 60, 1, 52, 8, 56, 11, 36, 12, 45, 59, 40, 62]}\n"
     ]
    }
   ],
   "source": [
    "print(new_noise)"
   ]
  },
  {
   "cell_type": "code",
   "execution_count": 16,
   "metadata": {},
   "outputs": [
    {
     "name": "stdout",
     "output_type": "stream",
     "text": [
      "Variable    Type              Data/Info\n",
      "---------------------------------------\n",
      "new_noise   dict              n=4\n",
      "pickle      module            <module 'pickle' from 'C:<...>aconda3\\\\lib\\\\pickle.py'>\n",
      "random      module            <module 'random' from 'C:<...>aconda3\\\\lib\\\\random.py'>\n",
      "read_file   BufferedReader    <_io.BufferedReader name='noise.pickle'>\n",
      "sys         module            <module 'sys' (built-in)>\n",
      "to_write    BufferedWriter    <_io.BufferedWriter name='noise.pickle'>\n"
     ]
    }
   ],
   "source": [
    "whos"
   ]
  },
  {
   "cell_type": "markdown",
   "metadata": {},
   "source": [
    "Random noise lives! We retrieved the entire structure from file. Nice."
   ]
  },
  {
   "cell_type": "markdown",
   "metadata": {},
   "source": [
    "### Okay, but I don't use dictionaries... I use pandas."
   ]
  },
  {
   "cell_type": "code",
   "execution_count": 17,
   "metadata": {},
   "outputs": [
    {
     "data": {
      "text/html": [
       "<div>\n",
       "<style scoped>\n",
       "    .dataframe tbody tr th:only-of-type {\n",
       "        vertical-align: middle;\n",
       "    }\n",
       "\n",
       "    .dataframe tbody tr th {\n",
       "        vertical-align: top;\n",
       "    }\n",
       "\n",
       "    .dataframe thead th {\n",
       "        text-align: right;\n",
       "    }\n",
       "</style>\n",
       "<table border=\"1\" class=\"dataframe\">\n",
       "  <thead>\n",
       "    <tr style=\"text-align: right;\">\n",
       "      <th></th>\n",
       "      <th>Yay</th>\n",
       "      <th>specific</th>\n",
       "      <th>column</th>\n",
       "      <th>names</th>\n",
       "    </tr>\n",
       "  </thead>\n",
       "  <tbody>\n",
       "    <tr>\n",
       "      <th>0</th>\n",
       "      <td>9.162183</td>\n",
       "      <td>-8.721071</td>\n",
       "      <td>0.260998</td>\n",
       "      <td>-0.718991</td>\n",
       "    </tr>\n",
       "    <tr>\n",
       "      <th>1</th>\n",
       "      <td>-2.241694</td>\n",
       "      <td>-3.131062</td>\n",
       "      <td>-0.278825</td>\n",
       "      <td>-7.660368</td>\n",
       "    </tr>\n",
       "    <tr>\n",
       "      <th>2</th>\n",
       "      <td>7.585930</td>\n",
       "      <td>-2.330329</td>\n",
       "      <td>-2.375845</td>\n",
       "      <td>-1.903011</td>\n",
       "    </tr>\n",
       "    <tr>\n",
       "      <th>3</th>\n",
       "      <td>1.047559</td>\n",
       "      <td>-2.502540</td>\n",
       "      <td>-7.353734</td>\n",
       "      <td>9.943160</td>\n",
       "    </tr>\n",
       "    <tr>\n",
       "      <th>4</th>\n",
       "      <td>1.884821</td>\n",
       "      <td>4.323807</td>\n",
       "      <td>1.758137</td>\n",
       "      <td>4.895620</td>\n",
       "    </tr>\n",
       "  </tbody>\n",
       "</table>\n",
       "</div>"
      ],
      "text/plain": [
       "        Yay  specific    column     names\n",
       "0  9.162183 -8.721071  0.260998 -0.718991\n",
       "1 -2.241694 -3.131062 -0.278825 -7.660368\n",
       "2  7.585930 -2.330329 -2.375845 -1.903011\n",
       "3  1.047559 -2.502540 -7.353734  9.943160\n",
       "4  1.884821  4.323807  1.758137  4.895620"
      ]
     },
     "execution_count": 17,
     "metadata": {},
     "output_type": "execute_result"
    }
   ],
   "source": [
    "import pandas as pd\n",
    "import numpy as np\n",
    "\n",
    "df = pd.DataFrame(np.random.uniform(-10,10, size=(100,4)), columns=['Yay','specific','column','names'])\n",
    "df.head(5)"
   ]
  },
  {
   "cell_type": "code",
   "execution_count": 18,
   "metadata": {},
   "outputs": [],
   "source": [
    "with open('my_dataframe.pickle', 'wb') as to_write:\n",
    "    pickle.dump(df, to_write)"
   ]
  },
  {
   "cell_type": "code",
   "execution_count": 19,
   "metadata": {},
   "outputs": [
    {
     "ename": "NameError",
     "evalue": "name 'df' is not defined",
     "output_type": "error",
     "traceback": [
      "\u001b[1;31m---------------------------------------------------------------------------\u001b[0m",
      "\u001b[1;31mNameError\u001b[0m                                 Traceback (most recent call last)",
      "\u001b[1;32m<ipython-input-19-3975f6306adf>\u001b[0m in \u001b[0;36m<module>\u001b[1;34m\u001b[0m\n\u001b[0;32m      1\u001b[0m \u001b[1;32mdel\u001b[0m \u001b[0mdf\u001b[0m\u001b[1;33m\u001b[0m\u001b[1;33m\u001b[0m\u001b[0m\n\u001b[0;32m      2\u001b[0m \u001b[1;33m\u001b[0m\u001b[0m\n\u001b[1;32m----> 3\u001b[1;33m \u001b[0mdf\u001b[0m\u001b[1;33m.\u001b[0m\u001b[0mhead\u001b[0m\u001b[1;33m(\u001b[0m\u001b[1;36m5\u001b[0m\u001b[1;33m)\u001b[0m\u001b[1;33m\u001b[0m\u001b[1;33m\u001b[0m\u001b[0m\n\u001b[0m",
      "\u001b[1;31mNameError\u001b[0m: name 'df' is not defined"
     ]
    }
   ],
   "source": [
    "del df\n",
    "\n",
    "df.head(5)"
   ]
  },
  {
   "cell_type": "code",
   "execution_count": 20,
   "metadata": {},
   "outputs": [
    {
     "data": {
      "text/html": [
       "<div>\n",
       "<style scoped>\n",
       "    .dataframe tbody tr th:only-of-type {\n",
       "        vertical-align: middle;\n",
       "    }\n",
       "\n",
       "    .dataframe tbody tr th {\n",
       "        vertical-align: top;\n",
       "    }\n",
       "\n",
       "    .dataframe thead th {\n",
       "        text-align: right;\n",
       "    }\n",
       "</style>\n",
       "<table border=\"1\" class=\"dataframe\">\n",
       "  <thead>\n",
       "    <tr style=\"text-align: right;\">\n",
       "      <th></th>\n",
       "      <th>Yay</th>\n",
       "      <th>specific</th>\n",
       "      <th>column</th>\n",
       "      <th>names</th>\n",
       "    </tr>\n",
       "  </thead>\n",
       "  <tbody>\n",
       "    <tr>\n",
       "      <th>0</th>\n",
       "      <td>9.162183</td>\n",
       "      <td>-8.721071</td>\n",
       "      <td>0.260998</td>\n",
       "      <td>-0.718991</td>\n",
       "    </tr>\n",
       "    <tr>\n",
       "      <th>1</th>\n",
       "      <td>-2.241694</td>\n",
       "      <td>-3.131062</td>\n",
       "      <td>-0.278825</td>\n",
       "      <td>-7.660368</td>\n",
       "    </tr>\n",
       "    <tr>\n",
       "      <th>2</th>\n",
       "      <td>7.585930</td>\n",
       "      <td>-2.330329</td>\n",
       "      <td>-2.375845</td>\n",
       "      <td>-1.903011</td>\n",
       "    </tr>\n",
       "    <tr>\n",
       "      <th>3</th>\n",
       "      <td>1.047559</td>\n",
       "      <td>-2.502540</td>\n",
       "      <td>-7.353734</td>\n",
       "      <td>9.943160</td>\n",
       "    </tr>\n",
       "    <tr>\n",
       "      <th>4</th>\n",
       "      <td>1.884821</td>\n",
       "      <td>4.323807</td>\n",
       "      <td>1.758137</td>\n",
       "      <td>4.895620</td>\n",
       "    </tr>\n",
       "  </tbody>\n",
       "</table>\n",
       "</div>"
      ],
      "text/plain": [
       "        Yay  specific    column     names\n",
       "0  9.162183 -8.721071  0.260998 -0.718991\n",
       "1 -2.241694 -3.131062 -0.278825 -7.660368\n",
       "2  7.585930 -2.330329 -2.375845 -1.903011\n",
       "3  1.047559 -2.502540 -7.353734  9.943160\n",
       "4  1.884821  4.323807  1.758137  4.895620"
      ]
     },
     "execution_count": 20,
     "metadata": {},
     "output_type": "execute_result"
    }
   ],
   "source": [
    "with open('my_dataframe.pickle','rb') as read_file:\n",
    "    new_df = pickle.load(read_file)\n",
    "    \n",
    "new_df.head(5)"
   ]
  },
  {
   "cell_type": "markdown",
   "metadata": {},
   "source": [
    "Pickle is a great tool. One recommended way of using it is to make it an end point of every step in your process. Example:\n",
    "\n",
    "* I got my data! Nice. Pickle it and stop your \"getting the data\" notebook.\n",
    "* Load your data from pickle. Clean it. Save your clean data to a new pickle.\n",
    "* Load your cleaned_data pickle. Do analysis and visualize it.\n",
    "\n",
    "This can provide natural \"pick-up-where-I-left-off-but-before-I-broke-my-data\" points. It's a great way to control the flow of your data.\n",
    "\n",
    "#### Resources\n",
    "\n",
    "https://docs.python.org/3.7/library/pickle.html"
   ]
  },
  {
   "cell_type": "code",
   "execution_count": null,
   "metadata": {},
   "outputs": [],
   "source": []
  }
 ],
 "metadata": {
  "kernelspec": {
   "display_name": "Python 3",
   "language": "python",
   "name": "python3"
  },
  "language_info": {
   "codemirror_mode": {
    "name": "ipython",
    "version": 3
   },
   "file_extension": ".py",
   "mimetype": "text/x-python",
   "name": "python",
   "nbconvert_exporter": "python",
   "pygments_lexer": "ipython3",
   "version": "3.7.5"
  }
 },
 "nbformat": 4,
 "nbformat_minor": 1
}
